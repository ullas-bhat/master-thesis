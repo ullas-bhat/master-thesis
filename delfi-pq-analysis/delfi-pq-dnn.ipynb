{
 "cells": [
  {
   "cell_type": "code",
   "execution_count": null,
   "metadata": {},
   "outputs": [],
   "source": []
  }
 ],
 "metadata": {
  "kernelspec": {
   "display_name": "Python 3.10.8 ('tensorflow-test')",
   "language": "python",
   "name": "python3"
  },
  "language_info": {
   "name": "python",
   "version": "3.10.8"
  },
  "orig_nbformat": 4,
  "vscode": {
   "interpreter": {
    "hash": "b176a45713301ddc99e174f6c2cc28f9857aec50eec1dd5586fbc5cd4a548df9"
   }
  }
 },
 "nbformat": 4,
 "nbformat_minor": 2
}
